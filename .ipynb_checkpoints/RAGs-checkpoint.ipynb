{
 "cells": [
  {
   "cell_type": "code",
   "execution_count": 1,
   "id": "b7d99306-c22b-4bfd-8f36-e2946c0c249e",
   "metadata": {},
   "outputs": [],
   "source": [
    "import os\n",
    "import fitz\n",
    "import re\n",
    "from tqdm.auto import tqdm\n",
    "from bertopic import BERTopic\n",
    "from sentence_transformers import SentenceTransformer\n",
    "import pandas as pd\n",
    "import tiktoken\n",
    "from sentence_transformers import SentenceTransformer\n",
    "from datasets import Dataset\n",
    "from langchain.text_splitter import RecursiveCharacterTextSplitter\n",
    "from datasets import load_dataset\n",
    "from pinecone import pinecone, ServerlessSpec\n",
    "from uuid import uuid4\n",
    "pc = pinecone.Pinecone(api_key=\"pcsk_7B7VXN_6M4qLKUbxBrU4iCXs5VVy4ZCQCoTJUNJayD2EJa6PeqGygBfxzBb64YL2D56C9U\")"
   ]
  },
  {
   "cell_type": "code",
   "execution_count": null,
   "id": "3702520c-15ad-438c-b273-a8681f5f6bdb",
   "metadata": {},
   "outputs": [],
   "source": []
  },
  {
   "cell_type": "code",
   "execution_count": null,
   "id": "f405beb0-374a-4704-b832-4f00586bfd5c",
   "metadata": {},
   "outputs": [],
   "source": [
    "pdf_folder = \"/home/shegun93/Klasshour_Rags/Physics\"\n",
    "def text_formatter(text: str) -> str:\n",
    "    cleaned = text.replace(\"\\n\",\" \").strip()\n",
    "    return cleaned"
   ]
  },
  {
   "cell_type": "code",
   "execution_count": null,
   "id": "d532f66b-9e59-46f7-8969-5ed9ba3bb112",
   "metadata": {},
   "outputs": [],
   "source": [
    "def parse_filename(filename: str) -> str:\n",
    "    \"\"\"\n",
    "    Extracts the base name without extension from the filename.\n",
    "    :param filename: The name of the file\n",
    "    :return: Base name of the file\n",
    "    \"\"\"\n",
    "    filename = os.path.splitext(filename)[0]\n",
    "    filename = re.sub(r'[^a-zA-Z0-9\\s]', ' ', filename)\n",
    "    filename = re.sub(r'\\s+', ' ', filename)\n",
    "    name = filename.lower()\n",
    "    name = name.title()\n",
    "\n",
    "    #name = filename.split(\"_\")\n",
    "    return {\n",
    "        \"Subject\": \"Physics\",\n",
    "        \"topic\": name,\n",
    "    }\n"
   ]
  },
  {
   "cell_type": "code",
   "execution_count": null,
   "id": "7f5658e6-e741-459c-80ac-9af9f3ac4c70",
   "metadata": {},
   "outputs": [],
   "source": []
  },
  {
   "cell_type": "code",
   "execution_count": null,
   "id": "90ae1bba-06b4-4c44-9689-2be1784ee565",
   "metadata": {},
   "outputs": [],
   "source": [
    "def extract_all_pages(pdf_folder: str) -> list[dict]:\n",
    "    \"\"\"Extract text and metadata from all PDFs in a folder.\"\"\"\n",
    "    pages = []\n",
    "\n",
    "    for file in os.listdir(pdf_folder):\n",
    "        if file.endswith(\".pdf\"):\n",
    "            pdf_path = os.path.join(pdf_folder, file)\n",
    "            filename = os.path.basename(pdf_path)\n",
    "            metadata = parse_filename(filename)\n",
    "\n",
    "            document = fitz.open(pdf_path)\n",
    "\n",
    "            for page_number, page in tqdm(enumerate(document), desc=filename):\n",
    "                raw_text = page.get_text()\n",
    "                cleaned_text = text_formatter(raw_text)\n",
    "\n",
    "                page_data = {\n",
    "                    \"text\": cleaned_text,\n",
    "                    \"subject\": metadata.get[\"Subject\"]\n",
    "                    \"topic\": metadata.get[\"topic\"]\n",
    "                }\n",
    "                pages.append(page_data)\n",
    "\n",
    "\n",
    "    return pages"
   ]
  },
  {
   "cell_type": "code",
   "execution_count": null,
   "id": "2a5ea83b-e9ba-438d-ba4e-7f23ac94b108",
   "metadata": {
    "scrolled": true
   },
   "outputs": [],
   "source": [
    "print(\"📄 Extracting pages...\")\n",
    "all_pages = extract_all_pages(pdf_folder)"
   ]
  },
  {
   "cell_type": "code",
   "execution_count": null,
   "id": "18b0b988-f29f-4e75-b003-d803f58e3a33",
   "metadata": {
    "scrolled": true
   },
   "outputs": [],
   "source": [
    "import random\n",
    "random.sample(all_pages, k=4)"
   ]
  },
  {
   "cell_type": "code",
   "execution_count": null,
   "id": "592499c6-c691-46e4-a254-6e712f689ebd",
   "metadata": {
    "jupyter": {
     "source_hidden": true
    }
   },
   "outputs": [],
   "source": [
    "# output_path = \"/home/shegun93/Klasshour_Rags/Data\"\n",
    "# dataset = Dataset.from_list(all_pages)\n",
    "# dataset.save_to_disk(output_path)\n",
    "# print(f\"Dataset saved to {output_path}\")"
   ]
  },
  {
   "cell_type": "code",
   "execution_count": null,
   "id": "15b26915-9d8d-425f-9f69-11676d08c407",
   "metadata": {},
   "outputs": [],
   "source": [
    "# output_path = \"/home/shegun93/Klasshour_Rags/Physics_dataset\"\n",
    "# if not os.path.exists(output_path):\n",
    "#     os.makedirs(output_path)\n",
    "# output_path = os.path.join(output_path, \"physics_dataset\")"
   ]
  },
  {
   "cell_type": "code",
   "execution_count": null,
   "id": "05efc61a-1c0c-4b54-a1d2-e6075030efa1",
   "metadata": {},
   "outputs": [],
   "source": [
    "from datasets import Dataset\n",
    "\n",
    "output_path = \"/home/shegun93/Klasshour_Rags/data.json\"\n",
    "dataset = Dataset.from_list(all_pages)\n",
    "dataset.to_json(output_path)\n",
    "\n",
    "print(f\"Dataset saved to {output_path}\")"
   ]
  },
  {
   "cell_type": "code",
   "execution_count": null,
   "id": "283893bc-a98f-4e68-92cc-6f64fd99427c",
   "metadata": {},
   "outputs": [],
   "source": [
    "dataset = load_dataset(\"json\", data_files=\"/home/shegun93/Klasshour_Rags/data.json\", split=\"train\")"
   ]
  },
  {
   "cell_type": "code",
   "execution_count": null,
   "id": "3f40f8af-bb78-473b-a8bf-53f8ca013d0e",
   "metadata": {},
   "outputs": [],
   "source": [
    "dataset"
   ]
  },
  {
   "cell_type": "code",
   "execution_count": null,
   "id": "659bc791-7766-4b30-a42e-40584cd576b1",
   "metadata": {},
   "outputs": [],
   "source": [
    "# df = dataset[0]\n",
    "# meta = df.get(\"metadata\")\n",
    "# print(meta)\n",
    "# print(meta.get(\"topic\"))"
   ]
  },
  {
   "cell_type": "code",
   "execution_count": null,
   "id": "dabb12b8-6c2f-4ea3-be33-79c76eadf926",
   "metadata": {
    "jupyter": {
     "source_hidden": true
    }
   },
   "outputs": [],
   "source": [
    "# embedding_model = SentenceTransformer(\"all-mpnet-base-v2\")\n",
    "# topic_model = BERTopic(embedding_model=embedding_model, verbose=True)\n",
    "# topics, _ = topic_model.fit_transform(texts)"
   ]
  },
  {
   "cell_type": "code",
   "execution_count": null,
   "id": "30f69a69-0109-42b1-b1ef-16e6e9b95969",
   "metadata": {
    "jupyter": {
     "source_hidden": true
    }
   },
   "outputs": [],
   "source": [
    "# for i, page in enumerate(all_pages):\n",
    "#     topic_id = topics[i]\n",
    "#     if topic_id != -1:\n",
    "#         topic_name = topic_model.get_topic(topic_id)[0][0]\n",
    "#     else:\n",
    "#         topic_name = \"Unknown\"\n",
    "#     page[\"metadata\"][\"inferred_topic\"] = topic_name\n",
    "\n",
    "# print(f\"✅ Assigned inferred topics to {len(all_pages)} pages.\")"
   ]
  },
  {
   "cell_type": "code",
   "execution_count": null,
   "id": "e875fd88-2d7b-4b06-a9f8-2fbb5f1c2118",
   "metadata": {},
   "outputs": [],
   "source": []
  },
  {
   "cell_type": "code",
   "execution_count": null,
   "id": "21eb451a-871f-4e8c-ad3a-7a3ccfa9054a",
   "metadata": {
    "jupyter": {
     "source_hidden": true
    }
   },
   "outputs": [],
   "source": [
    "def token_length(self, text):\n",
    "    # Correct usage of the tiktoken tokenizer\n",
    "    tokens = self.tokenizer.encode(text)  # Remove disallowed_special argument\n",
    "    return len(tokens)"
   ]
  },
  {
   "cell_type": "code",
   "execution_count": 2,
   "id": "8982e7cf-de58-42c7-ae09-27f0e29796bb",
   "metadata": {},
   "outputs": [],
   "source": [
    "class DataIngestion:\n",
    "    def __init__(self, index=None, tokenizer=None, data=None, text_splitter=None, embeddings=None, batch_limit=None):\n",
    "        self.index = index\n",
    "        self.tokenizer = tokenizer or tiktoken.get_encoding(encoding_name=\"cl100k_base\")\n",
    "        self.embeddings = embeddings or SentenceTransformer(\"all-mpnet-base-v2\")\n",
    "        self.text_splitter = text_splitter or RecursiveCharacterTextSplitter(\n",
    "            chunk_size=400,\n",
    "            chunk_overlap=20,\n",
    "            length_function=self.token_length,\n",
    "            separators=[\"\\n\\n\", \"\\n\", \" \", \"\"]\n",
    "        )\n",
    "        self.batch_limit = 100\n",
    "        self.data = data or load_dataset(\"json\", data_files=\"/home/shegun93/Klasshour_Rags/data.json\", split=\"train\")\n",
    "\n",
    "    def token_length(self, text):\n",
    "        tokens = self.tokenizer.encode(text)\n",
    "        return len(tokens)\n",
    "    \n",
    "    def get_metadata(self, page):\n",
    "        metadata = page.get(\"metadata\")\n",
    "        return {\n",
    "            \"Subject\": metadata.get(\"Subject\"),\n",
    "            \"topic\": metadata.get(\"topic\")\n",
    "        }\n",
    "    \n",
    "\n",
    "    def split_texts_and_get_metadata(self, page):\n",
    "        basic_metadata = self.get_metadata(page)\n",
    "        texts = self.text_splitter.split_text(page.get(\"text\"))\n",
    "        metadatas = [\n",
    "            {\"topic\": topic, \"text\": text, **basic_metadata}\n",
    "            for topic, text in enumerate(texts)\n",
    "        ]\n",
    "        return texts,  metadatas\n",
    "\n",
    "    def upload_batch(self, texts, metadatas):\n",
    "        ids =[str(uuid4()) for _ in range(len(texts))]\n",
    "        embeddings = self.embeddings.encode(texts)\n",
    "        self.index.upsert(vectors=zip(ids, \n",
    "                                      embeddings, \n",
    "                                      metadatas\n",
    "                                     ))\n",
    "    def batch_upload(self):\n",
    "        batch_texts = []\n",
    "        batch_metadatas = []\n",
    "        for page in tqdm(self.data):\n",
    "            texts, metadatas = self.split_texts_and_get_metadata(page)\n",
    "            batch_texts.extend(texts)\n",
    "            batch_metadatas.extend(metadatas)\n",
    "            if len(batch_texts) >= self.batch_limit:\n",
    "                self.upload_batch(batch_texts, batch_metadatas)\n",
    "                batch_texts = []\n",
    "                batch_metadatas = []\n",
    "\n",
    "        if len(batch_texts) > 0:\n",
    "            self.upload_batch(batch_texts, batch_metadatas)"
   ]
  },
  {
   "cell_type": "code",
   "execution_count": null,
   "id": "93cc1808-0f9a-4124-88d8-e2d1bc1bfd29",
   "metadata": {},
   "outputs": [],
   "source": [
    "#embeddings.embed_documents = lambda *args, **kwargs: embeddinggs.encode(*args, **kwargs).tolist()"
   ]
  },
  {
   "cell_type": "code",
   "execution_count": 3,
   "id": "ba1177ba-f507-4611-8efd-5583fe77ee69",
   "metadata": {},
   "outputs": [
    {
     "name": "stdout",
     "output_type": "stream",
     "text": [
      "{'dimension': 768,\n",
      " 'index_fullness': 0.0,\n",
      " 'metric': 'cosine',\n",
      " 'namespaces': {},\n",
      " 'total_vector_count': 0,\n",
      " 'vector_type': 'dense'}\n"
     ]
    }
   ],
   "source": [
    "index_name = \"klasshour\"\n",
    "if index_name not in pc.list_indexes().names():\n",
    "    pc.create_index(index_name,\n",
    "                    metric=\"cosine\",\n",
    "                    dimension=768,\n",
    "                    spec = ServerlessSpec(\n",
    "                        cloud=\"aws\",\n",
    "                        region=\"us-east-1\",\n",
    "                    ))\n",
    "    index = pc.Index(index_name)\n",
    "    print(index.describe_index_stats())"
   ]
  },
  {
   "cell_type": "code",
   "execution_count": 4,
   "id": "dd82cc3e-80d8-4a84-9f54-c365db0a746a",
   "metadata": {},
   "outputs": [
    {
     "data": {
      "application/vnd.jupyter.widget-view+json": {
       "model_id": "77b3c63d4b4241bc860a0bc74cb4f5cd",
       "version_major": 2,
       "version_minor": 0
      },
      "text/plain": [
       "  0%|          | 0/6753 [00:00<?, ?it/s]"
      ]
     },
     "metadata": {},
     "output_type": "display_data"
    },
    {
     "name": "stdout",
     "output_type": "stream",
     "text": [
      "{'dimension': 768,\n",
      " 'index_fullness': 0.0,\n",
      " 'metric': 'cosine',\n",
      " 'namespaces': {'': {'vector_count': 13743}},\n",
      " 'total_vector_count': 13743,\n",
      " 'vector_type': 'dense'}\n"
     ]
    }
   ],
   "source": [
    "data_ingestion = DataIngestion(index, embeddings=SentenceTransformer(\"all-mpnet-base-v2\"))\n",
    "data_ingestion.batch_upload()\n",
    "print(index.describe_index_stats())"
   ]
  },
  {
   "cell_type": "code",
   "execution_count": null,
   "id": "d8114897-a338-41c0-9c73-f9472ff803d2",
   "metadata": {},
   "outputs": [],
   "source": []
  },
  {
   "cell_type": "code",
   "execution_count": 7,
   "id": "7da287f6-4490-4458-b73d-32f4f212c52c",
   "metadata": {},
   "outputs": [],
   "source": [
    "query = \"What is work, Energy and Power\"\n",
    "embedding = data_ingestion.embeddings.encode(query).tolist()"
   ]
  },
  {
   "cell_type": "code",
   "execution_count": 8,
   "id": "e8f87606-de60-4528-ac97-5048af9fcfc9",
   "metadata": {},
   "outputs": [],
   "source": [
    "results = index.query(vector=embedding, top_k=3, include_metadata=True)"
   ]
  },
  {
   "cell_type": "code",
   "execution_count": 29,
   "id": "40d50077-b5e0-437b-974a-25af45dbcda4",
   "metadata": {},
   "outputs": [
    {
     "name": "stdout",
     "output_type": "stream",
     "text": [
      "Retrival: {'Subject': 'Physics', 'text': 'The language of power is subtle and different from that of work. Recall that work is done on an object and results in a transfer of energy to that object. The rate of this energy transfer, or power, is often referred to as the power that is generated in doing the work. The term “power” not only applies to the rate at which energy is transferred from one object to another or transformed from one form to another, but also to the rate at which energy is transported from one location to another. For example, electric power lines carry electric energy across vast stretches of land.  Energy Transformations • MHR 277 The unit, the watt, was named in  honour of the Scottish engineer, James Watt, who made such great improvements in the steam engine that it hastened the Industrial Revolution. The ability to do work did not change, but the rate at which the work  could be accomplished did. Watt did experiments with strong dray horses and determined that they could lift  550 pounds a distance of one foot in  1 s. He called this amount of power one horsepower (hp). Converting to  SI units, 1 hp is equivalent to 746 W. What do you think your horsepower is? Design a simple experiment that you could use to determine your horsepower, and then read ahead in the Multi Lab in this section to see another way to determine your  horsepower. History Link Calculating Power 1. A crane is capable of doing 1.50 × 105 J of work in 10.0 s. What is the power of the crane in watts? Frame the Problem I The crane did work in a speciﬁed time interval. I Power is deﬁned as work done per unit time.  I Simply apply the power deﬁnition. MODEL PROBLEMS Remember that a capital “W ” is the variable that repre- sents work done and “W” also represents the unit of', 'topic': 'The Science Of Matter And Energy'}\n",
      "Retrival: {'Subject': 'Physics', 'text': 'Chapter 6: Work, Energy and Power  Tuesday February 10th   Reading: up to page 88 in the text book (Ch. 6)  •\\u202fFinish Newton’s laws and circular motion  •\\u202fEnergy  •\\u202f Work (definition)  •\\u202f Examples of work  •\\u202fWork and Kinetic Energy  •\\u202fConservative and non-conservative forces  •\\u202fWork and Potential Energy  •\\u202fConservation of Energy  •\\u202fAs usual – iclicker, examples and demonstrations', 'topic': 'Work Energy And Power'}\n",
      "Retrival: {'Subject': 'Physics', 'text': 'Energy, Work, and Power UNIT 2 192', 'topic': 'The Science Of Matter And Energy'}\n"
     ]
    }
   ],
   "source": [
    "for result in results[\"matches\"]:\n",
    "    print(f\"Retrival: {result['metadata']}\")\n",
    "    #print(f\"Text: {result['metadata']['text']}\\n\")"
   ]
  },
  {
   "cell_type": "code",
   "execution_count": null,
   "id": "d53d5ca6-8e07-426e-b668-f9eb02c7b3f5",
   "metadata": {},
   "outputs": [],
   "source": []
  }
 ],
 "metadata": {
  "kernelspec": {
   "display_name": "Python 3 (ipykernel)",
   "language": "python",
   "name": "python3"
  },
  "language_info": {
   "codemirror_mode": {
    "name": "ipython",
    "version": 3
   },
   "file_extension": ".py",
   "mimetype": "text/x-python",
   "name": "python",
   "nbconvert_exporter": "python",
   "pygments_lexer": "ipython3",
   "version": "3.9.0"
  }
 },
 "nbformat": 4,
 "nbformat_minor": 5
}
